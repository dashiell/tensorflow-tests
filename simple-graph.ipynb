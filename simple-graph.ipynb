{
 "cells": [
  {
   "cell_type": "code",
   "execution_count": null,
   "metadata": {
    "collapsed": true
   },
   "outputs": [],
   "source": [
    "import tensorflow as tf\n",
    "import numpy as np\n",
    "\n",
    "x = np.random.rand(100).astype(np.float32)\n",
    "y = x * 0.1 + 1\n",
    "\n",
    "weights = tf.Variable(tf.random_uniform(shape=[1], minval=-1, maxval=1, dtype=tf.float32))\n",
    "biases = tf.Variable(tf.ones(shape=[1], dtype=tf.float32))\n",
    "\n",
    "y_pred = weights * x + biases\n",
    "\n",
    "loss = tf.reduce_mean(tf.square(y_pred-y))\n",
    "optimizer = tf.train.GradientDescentOptimizer(0.5)\n",
    "train = optimizer.minimize(loss)\n",
    "\n",
    "with tf.Session() as sess:\n",
    "    sess.run(tf.global_variables_initializer())\n",
    "   \n",
    "    for step in range(101):\n",
    "        sess.run(train)\n",
    "        if step % 10 == 0:\n",
    "            print(step, sess.run(weights), sess.run(biases))"
   ]
  }
 ],
 "metadata": {
  "kernelspec": {
   "display_name": "Python 3",
   "language": "python",
   "name": "python3"
  },
  "language_info": {
   "codemirror_mode": {
    "name": "ipython",
    "version": 3
   },
   "file_extension": ".py",
   "mimetype": "text/x-python",
   "name": "python",
   "nbconvert_exporter": "python",
   "pygments_lexer": "ipython3",
   "version": "3.6.0"
  }
 },
 "nbformat": 4,
 "nbformat_minor": 2
}
